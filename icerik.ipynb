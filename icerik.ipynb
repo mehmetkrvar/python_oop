{
 "cells": [
  {
   "cell_type": "code",
   "execution_count": 37,
   "metadata": {},
   "outputs": [],
   "source": [
    "#sınıflar\n",
    "class employee(object):\n",
    "    #attributem = özellik örneği: name, age, salary\n",
    "    #behaviour = davranış örneği: work, eat, sleep\n",
    "    pass"
   ]
  },
  {
   "cell_type": "code",
   "execution_count": 38,
   "metadata": {},
   "outputs": [
    {
     "name": "stdout",
     "output_type": "stream",
     "text": [
      "<__main__.footballer object at 0x0000014192FDD210>\n",
      "30\n",
      "barcelona\n",
      "30 barcelona\n",
      "real madrid\n"
     ]
    }
   ],
   "source": [
    "#attribute = özellik\n",
    "class footballer():\n",
    "    #attribute = özellik\n",
    "    age = 30\n",
    "    football_club = \"barcelona\"\n",
    "# örnek kullanım\n",
    "f1=footballer()\n",
    "print(f1)\n",
    "#f1 nesnesinin özelliklerini yazdıralım\n",
    "print(f1.age)\n",
    "print(f1.football_club)\n",
    "print(f1.age,f1.football_club)\n",
    "#özellikleri değiştirelim\n",
    "f1.football_club = \"real madrid\"\n",
    "print(f1.football_club)"
   ]
  },
  {
   "cell_type": "code",
   "execution_count": 39,
   "metadata": {},
   "outputs": [
    {
     "name": "stdout",
     "output_type": "stream",
     "text": [
      "25\n",
      "<__main__.square object at 0x0000014192A5CC90>\n",
      "5\n"
     ]
    }
   ],
   "source": [
    "#metotlar\n",
    "class square(object):\n",
    "    #attribute = özellik\n",
    "    edge = 5\n",
    "    #metot fonksiyonu\n",
    "    def area(self):\n",
    "        return self.edge**2\n",
    "s1=square()\n",
    "print(s1.area())\n",
    "print(s1)\n",
    "print(s1.edge)"
   ]
  },
  {
   "cell_type": "code",
   "execution_count": 40,
   "metadata": {},
   "outputs": [
    {
     "name": "stdout",
     "output_type": "stream",
     "text": [
      "('methot', 0.025)\n",
      "fonksiyon 1 =  0.025\n",
      "fonksiyon 2 =  0.03\n"
     ]
    }
   ],
   "source": [
    "#metotlar vs fonksiyonlar\n",
    "#metot\n",
    "class emp(object):\n",
    "    age = 25\n",
    "    salary = 1000\n",
    "    def ageSalaryRatio(self):\n",
    "        return (\"methot\",self.age/self.salary)\n",
    "e1=emp()\n",
    "print(e1.ageSalaryRatio())   \n",
    "\n",
    "#fonksiyon\n",
    "def ageSalaryRatio():\n",
    "    age = 25\n",
    "    salary = 1000\n",
    "    return age/salary\n",
    "print(\"fonksiyon 1 = \",ageSalaryRatio())\n",
    "\n",
    "#başka bir fonksiyon\n",
    "def ageSalaryRatio(age,salary):\n",
    "    return age/salary\n",
    "print(\"fonksiyon 2 = \",ageSalaryRatio(30,1000))"
   ]
  },
  {
   "cell_type": "code",
   "execution_count": 50,
   "metadata": {},
   "outputs": [
    {
     "name": "stdout",
     "output_type": "stream",
     "text": [
      "animal age 2\n",
      "cat\n",
      "4\n",
      "cow\n",
      "6\n"
     ]
    }
   ],
   "source": [
    "#yapıcı constructor (initializer)\n",
    "\"\"\"class animal(object):\n",
    "    name=\"dog\"\n",
    "    age=2\n",
    "\n",
    "    def get_age(self):\n",
    "        return self.age\n",
    "    \n",
    "a1=animal()\n",
    "a1.age=a1.get_age()\n",
    "print(\"animal age\",a1.age)\n",
    "\"\"\"\n",
    "# burada sürekli hayvan ismi değiştirip yapmak istemiyoruz bunun için yapıcı constructor kullanacağız\n",
    "class animal(object):\n",
    "    def __init__(self,name,age):\n",
    "        self.name=name\n",
    "        self.age=age\n",
    "    def get_age(self):\n",
    "        return self.age\n",
    "    def get_name(self):\n",
    "        return self.name\n",
    "a1=animal(\"dog\",2)\n",
    "print(\"animal age\",a1.age)\n",
    "a2=animal(\"cat\",3)\n",
    "print(a2.name)\n",
    "a3=animal(\"bird\",4)\n",
    "print(a3.get_age())\n",
    "a4=animal(\"cow\",5)\n",
    "print(a4.get_name())\n",
    "a5=animal(\"horse\",6)\n",
    "print(a5.get_age())"
   ]
  },
  {
   "cell_type": "code",
   "execution_count": 57,
   "metadata": {},
   "outputs": [
    {
     "name": "stdout",
     "output_type": "stream",
     "text": [
      "8\n",
      "15\n",
      "çarpma işlemi sonucu: 144\n"
     ]
    }
   ],
   "source": [
    "#hesap makinesi projesi\n",
    "class Calculator(object):\n",
    "    \"calculator class\"\n",
    "    #init metodu constructor görevi görür\n",
    "    def __init__(self,a,b):\n",
    "        #attribute\n",
    "        self.value1=a\n",
    "        self.value2=b\n",
    "    \n",
    "    def add(self):\n",
    "        \"a+b -> return a+b\"\n",
    "        return self.value1+self.value2\n",
    "    \n",
    "    def asasasa(self):\n",
    "        \"multiplies two values a*b -> return a*b\"\n",
    "        return self.value1*self.value2\n",
    "\n",
    "\n",
    "a1=Calculator(3,5)\n",
    "#toplama işlemi\n",
    "print(a1.add())\n",
    "#çarpma işlemi\n",
    "print(a1.asasasa())\n",
    "# açıklama = eğer 1 değeri girilirse toplama işlemi yapılır 2 değeri girilirse çarpma işlemi yapılır\n",
    "selection=int(input(\"1-toplama\\n2-çarpma\\n\"))\n",
    "v1=int(input(\"birinci değer:\"))\n",
    "v2=int(input(\"ikinci değer:\"))\n",
    "if selection == 1:\n",
    "    a1=Calculator(v1,v2)\n",
    "    print(\"toplama işlemi sonucu:\",a1.add())\n",
    "else :\n",
    "    a1=Calculator(v1,v2)\n",
    "    print(\"çarpma işlemi sonucu:\",a1.asasasa())"
   ]
  },
  {
   "cell_type": "code",
   "execution_count": 71,
   "metadata": {},
   "outputs": [
    {
     "name": "stdout",
     "output_type": "stream",
     "text": [
      "1000\n",
      "350\n"
     ]
    },
    {
     "data": {
      "text/plain": [
       "850"
      ]
     },
     "execution_count": 71,
     "metadata": {},
     "output_type": "execute_result"
    }
   ],
   "source": [
    "# kapsülleme (encapsulation)\n",
    "\"\"\"class BankAccount(object):\n",
    "    def __init__ (self,name,money,address):\n",
    "        self.name=name\n",
    "        self.money=money\n",
    "        self.address=address\n",
    "\n",
    "p1=BankAccount(\"ali\",1000,\"istanbul\")\n",
    "p2=BankAccount(\"veli\",2000,\"ankara\")\n",
    "p2.money =p1.money + p1.money # p2'nin parasını p1'in parasıyla topladık\n",
    "p1.money = 0 # p1'in parasını 0 yaptık\n",
    "# burada p1'in parasını 0 yaptık ve p1'in parasını p2'ye aktardık\n",
    "print(p1.name,p1.money,p1.address)\n",
    "print(p2.name,p2.money,p2.address)\n",
    "\"\"\"\n",
    "# burada biz para miktarına dışarıdan erişebiliyoruz bunu engellemek için kapsülleme yapacağız\n",
    "\n",
    "class BankAccount(object):\n",
    "    def __init__ (self,name,money,address):\n",
    "        self.name=name\n",
    "        self.__money=money # burada __money yaptık ve dışarıdan erişimi engelledik\n",
    "        self.address=address\n",
    "\n",
    "    # getMoney ve setMoney metoduyla dışarıdan erişebiliriz\n",
    "    def getMoney(self):\n",
    "        #burada dışarıdan erişimi engellediğimiz için getMoney metoduyla erişebiliriz\n",
    "        # money değişkenine erişmek için getMoney metodu kullanılır\n",
    "        return self.__money\n",
    "    \n",
    "    def setMoney(self,amount):\n",
    "        #burada dışarıdan erişimi engellediğimiz için setMoney metoduyla erişebiliriz\n",
    "        # money değerini değiştirmek için setMoney metodu kullanılır\n",
    "        self.__money=amount\n",
    "        return self.__money\n",
    "    def increase(self,amount):\n",
    "        # burada increase metoduyla para miktarını arttırabiliriz yani zam yapabiliriz\n",
    "        self.__money+=amount\n",
    "        return self.__money\n",
    "\n",
    "p1=BankAccount(\"ali\",1000,\"istanbul\")\n",
    "p2=BankAccount(\"veli\",2000,\"ankara\")\n",
    "\"\"\"print(p1.__money)\"\"\" # burada hata verir çünkü dışarıdan erişimi engelledik\n",
    "print(p1.getMoney()) # burada getMoney metoduyla eriştik\n",
    "p1.setMoney(350) # burada setMoney metoduyla para miktarını değiştirdik\n",
    "print(p1.getMoney()) # burada getMoney metoduyla eriştik\n",
    "p1.increase(500) # burada increase metoduyla para miktarını arttırdık\n",
    "p1.getMoney() # burada getMoney metoduyla eriştik"
   ]
  },
  {
   "cell_type": "code",
   "execution_count": 77,
   "metadata": {},
   "outputs": [
    {
     "name": "stdout",
     "output_type": "stream",
     "text": [
      "animal is created\n",
      "monkey is created\n",
      "monkey\n",
      "animal walk\n",
      "monkey can climb\n"
     ]
    }
   ],
   "source": [
    "# miras alma (inheritance)\n",
    "# bunun anlamı bir sınıfın başka bir sınıftan özelliklerini almasıdır\n",
    "# parent class = ebeveyn sınıf\n",
    "# child class = çocuk sınıf\n",
    "\n",
    "\n",
    "# parent \n",
    "class Animal(object):\n",
    "    def __init__(self):\n",
    "        print(\"animal is created\")\n",
    "    \n",
    "    def toString(self):\n",
    "        # burada toString metoduyla animal sınıfının özelliklerini yazdırdık\n",
    "        print(\"animal\")\n",
    "    def walk(self):\n",
    "        # burada walk metoduyla animal sınıfının özelliklerini yazdırdık\n",
    "        print(\"animal walk\")\n",
    "\n",
    "# child\n",
    "class Monkey(Animal): # burada Animal yazarak, Animal sınıfından özelliklerini aldık\n",
    "    def __init__(self):\n",
    "        super().__init__() # burada super() metoduyla Animal sınıfının özelliklerini aldık\n",
    "        print(\"monkey is created\")\n",
    "    def toString(self):\n",
    "        print(\"monkey\")\n",
    "    def climb(self):\n",
    "        print(\"monkey can climb\")\n",
    "    # walk sınıfı oluşturmadık çünkü Animal sınıfından aldık\n",
    "m1=Monkey()\n",
    "# çıktı olarak animal is created ve monkey is created yazdırdı\n",
    "# çünkü monkey sınıfı animal sınıfından özelliklerini aldı\n",
    "m1.toString()\n",
    "# çıktı olarak monkey yazdırdı çünkü monkey sınıfının toString metodu çalıştı\n",
    "m1.walk()\n",
    "# çıktı olarak animal walk yazdırdı çünkü monkey sınıfı animal sınıfından özelliklerini aldı\n",
    "# monkey sınıfında walk sınıfı olmadığı için animal sınıfının walk sınıfını çalıştırdı\n",
    "m1.climb()\n",
    "# çıktı olarak monkey can climb yazdırdı çünkü monkey sınıfının climb sınıfı çalıştı"
   ]
  },
  {
   "cell_type": "code",
   "execution_count": 81,
   "metadata": {},
   "outputs": [
    {
     "name": "stdout",
     "output_type": "stream",
     "text": [
      "ali\n",
      "veli\n",
      "ali veli\n",
      "ayşe\n",
      "fatma\n",
      "123456\n",
      "ayşe fatma\n",
      "None\n",
      "ayşe fatma 123456\n",
      "None\n",
      "mehmet\n",
      "ahmet\n",
      "123456\n",
      " ahmet@gmail.com\n",
      "mehmet ahmet\n",
      "None\n",
      "mehmet ahmet 123456\n",
      "None\n",
      "mehmet ahmet 123456  ahmet@gmail.com\n",
      "None\n"
     ]
    }
   ],
   "source": [
    "# inheritance (miras alma) projesi\n",
    "# web sitesi projesi\n",
    "# parent class = web sitesi\n",
    "# child class = id\n",
    "# child class = e-mail\n",
    "\"\"\" ----------------- parent class ----------------- \"\"\"\n",
    "class Website(object):\n",
    "    def __init__(self,name,surname):\n",
    "        self.name=name\n",
    "        self.surname=surname\n",
    "    def loginInfo(self):\n",
    "        print(self.name+\" \"+self.surname)\n",
    "p1=Website(\"ali\",\"veli\")\n",
    "print(p1.name)\n",
    "print(p1.surname)\n",
    "p1.loginInfo()\n",
    "\n",
    "\"\"\" ----------------- child class ----------------- \"\"\"\n",
    "class Website1(Website):\n",
    "    def __init__(self,name,surname,id):\n",
    "        Website.__init__(self,name,surname) #super().__init__(name,surname) de kullanılabilir\n",
    "        # ama website.__init__(self,name,surname) daha iyi\n",
    "        self.id=id\n",
    "    def login(self):\n",
    "        print(self.name+\" \"+self.surname+\" \"+self.id)\n",
    "\n",
    "p2=Website1(\"ayşe\",\"fatma\",\"123456\")\n",
    "print(p2.name)\n",
    "print(p2.surname)\n",
    "print(p2.id)\n",
    "print(p2.loginInfo())\n",
    "print(p2.login())\n",
    "\n",
    "class Website2(Website1):\n",
    "    def __init__(self,name,surname,id,email):\n",
    "        Website1.__init__(self,name,surname,id)\n",
    "        self.email=email\n",
    "    def login1(self):\n",
    "        print(self.name+\" \"+self.surname+\" \"+self.id+\" \"+self.email)\n",
    "\n",
    "p3=Website2(\"mehmet\",\"ahmet\",\"123456\",\" ahmet@gmail.com\")\n",
    "print(p3.name)\n",
    "print(p3.surname)\n",
    "print(p3.id)\n",
    "print(p3.email)\n",
    "print(p3.loginInfo())\n",
    "print(p3.login())\n",
    "print(p3.login1())\n",
    "\n"
   ]
  },
  {
   "cell_type": "code",
   "execution_count": 92,
   "metadata": {},
   "outputs": [
    {
     "name": "stdout",
     "output_type": "stream",
     "text": [
      "bird\n"
     ]
    }
   ],
   "source": [
    "# soyut sınıflar (abstract classes)\n",
    "from abc import ABC,abstractmethod # abc = abstract base class\n",
    "\n",
    "class Animal(ABC): # super class = üst sınıf\n",
    "    @abstractmethod\n",
    "    def walk(self):\n",
    "        pass\n",
    "    @abstractmethod\n",
    "    def run(self):\n",
    "        pass\n",
    "\n",
    "\"\"\"class Bird(Animal): # sub class = alt sınıf\n",
    "    def __init__(self):\n",
    "        print(\"bird\")\"\"\"\n",
    "\n",
    "\"\"\"b1=Bird()\"\"\" # burada hata verir çünkü abstract class'ı miras almadık\n",
    "class Bird(Animal): # sub class = alt sınıf\n",
    "    def __init__(self):\n",
    "        print(\"bird\")\n",
    "    def walk(self): \n",
    "        print(\"walk\")\n",
    "    def run(self):\n",
    "        print(\"run\")\n",
    "b1=Bird() # burada hata vermez çünkü abstract class'ı miras aldık\n",
    "\n"
   ]
  },
  {
   "cell_type": "code",
   "execution_count": 95,
   "metadata": {},
   "outputs": [
    {
     "name": "stdout",
     "output_type": "stream",
     "text": [
      "animal\n",
      "None\n",
      "monkey\n",
      "None\n"
     ]
    }
   ],
   "source": [
    "# overriding = geçersiz kılma\n",
    "\n",
    "class Animal(object):\n",
    "    def toString(self):\n",
    "        print(\"animal\")\n",
    "\n",
    "class Monkey(Animal):\n",
    "    def toString(self):\n",
    "        print(\"monkey\")\n",
    "\n",
    "a1=Animal()\n",
    "print(a1.toString())\n",
    "\n",
    "m1=Monkey()\n",
    "print(m1.toString()) # burada monkey yazdırdı çünkü monkey sınıfı animal sınıfını geçersiz kıldı\n"
   ]
  },
  {
   "cell_type": "code",
   "execution_count": 97,
   "metadata": {},
   "outputs": [
    {
     "name": "stdout",
     "output_type": "stream",
     "text": [
      "employee raise rate: 110.0\n",
      "ceng raise rate: 120.0\n",
      "elektrik mühendisi raise rate: 130.0\n",
      "120.0\n",
      "130.0\n"
     ]
    }
   ],
   "source": [
    "# polymorphism = çok biçimlilik\n",
    "# çok biçimlilik = bir nesnenin farklı şekillerde olmasıdır\n",
    "# employee class olacak super class olacak\n",
    "# her sene zam yapılacak\n",
    "# zam yapılacak miktar = % 0.1\n",
    "# ceng çalışanı olacak ve zam miktarı % 0.2 olacak sub class olacak\n",
    "# elektrik mühendisi çalışanı olacak ve zam miktarı % 0.3 olacak sub class olacak\n",
    "\n",
    "\n",
    "class Employee(object):\n",
    "    def raisee(self):\n",
    "        raise_rate=0.1\n",
    "        return 100 + 100*raise_rate\n",
    "        # burada 100 + 100*raise_rate yazdık çünkü maaş 100 olsun istedik\n",
    "        # zam yapılacak miktar = % 0.1\n",
    "class Ceng(Employee):\n",
    "    def raisee(self):\n",
    "        raise_rate=0.2\n",
    "        return 100 + 100*raise_rate\n",
    "        # burada 100 + 100*raise_rate yazdık çünkü maaş 100 olsun istedik\n",
    "        # zam yapılacak miktar = % 0.2\n",
    "class ElektrikMuhendisi(Employee):\n",
    "    def raisee(self):\n",
    "        raise_rate=0.3\n",
    "        return 100 + 100*raise_rate\n",
    "        # burada 100 + 100*raise_rate yazdık çünkü maaş 100 olsun istedik\n",
    "        # zam yapılacak miktar = % 0.3\n",
    "\n",
    "e1=Employee()\n",
    "print(\"employee raise rate:\",e1.raisee())\n",
    "# burada employee raise rate: 110.0 yazdırdı çünkü zam yapılacak miktar = % 0.1\n",
    "c1=Ceng()\n",
    "print(\"ceng raise rate:\",c1.raisee())\n",
    "# burada ceng raise rate: 120.0 yazdırdı çünkü zam yapılacak miktar = % 0.2\n",
    "e2=ElektrikMuhendisi()\n",
    "print(\"elektrik mühendisi raise rate:\",e2.raisee())\n",
    "# burada elektrik mühendisi raise rate: 130.0 yazdırdı çünkü zam yapılacak miktar = % 0.3\n",
    "\n",
    "\n",
    "employee_list=[c1,e2]\n",
    "for employee in employee_list:\n",
    "    print(employee.raisee())\n",
    "    # açıklama = burada employee.raisee() yazdık çünkü employee_list içindeki her bir employee raisee() metodu çalıştı\n",
    "    "
   ]
  }
 ],
 "metadata": {
  "kernelspec": {
   "display_name": "Python 3",
   "language": "python",
   "name": "python3"
  },
  "language_info": {
   "codemirror_mode": {
    "name": "ipython",
    "version": 3
   },
   "file_extension": ".py",
   "mimetype": "text/x-python",
   "name": "python",
   "nbconvert_exporter": "python",
   "pygments_lexer": "ipython3",
   "version": "3.11.5"
  }
 },
 "nbformat": 4,
 "nbformat_minor": 2
}
